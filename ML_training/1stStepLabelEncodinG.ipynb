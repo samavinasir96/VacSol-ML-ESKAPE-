{
 "cells": [
  {
   "cell_type": "code",
   "execution_count": null,
   "metadata": {},
   "outputs": [],
   "source": [
    "import joblib\n",
    "import pandas as pd\n",
    "from sklearn.calibration import LabelEncoder\n",
    "from sklearn.preprocessing import OneHotEncoder\n",
    "\n",
    "df = pd.read_csv('data\\iFeature\\iFeature_DataSet_df.csv')\n",
    "\n",
    "categorical_cols = ['Organism']\n",
    "\n",
    "encoder = LabelEncoder()\n",
    "encoded_labels = encoder.fit_transform(df[categorical_cols])\n",
    "\n",
    "with open('label_encoder.pkl', 'wb') as f:\n",
    "    joblib.dump(encoder, f)\n"
   ]
  },
  {
   "cell_type": "code",
   "execution_count": null,
   "metadata": {},
   "outputs": [],
   "source": [
    "encoded_labels"
   ]
  },
  {
   "cell_type": "code",
   "execution_count": null,
   "metadata": {},
   "outputs": [],
   "source": [
    "# Step 4: Merge encoded features into original DataFrame\n",
    "\n",
    "encoded_df = pd.DataFrame(encoded_labels, columns=categorical_cols)\n",
    "df_encoded = pd.concat([df, encoded_df], axis=1)\n",
    "df_encoded.to_csv(\"label_encoded_dataset.csv\", index=False)"
   ]
  }
 ],
 "metadata": {
  "kernelspec": {
   "display_name": "Python 3",
   "language": "python",
   "name": "python3"
  },
  "language_info": {
   "codemirror_mode": {
    "name": "ipython",
    "version": 3
   },
   "file_extension": ".py",
   "mimetype": "text/x-python",
   "name": "python",
   "nbconvert_exporter": "python",
   "pygments_lexer": "ipython3",
   "version": "3.10.8"
  }
 },
 "nbformat": 4,
 "nbformat_minor": 2
}
