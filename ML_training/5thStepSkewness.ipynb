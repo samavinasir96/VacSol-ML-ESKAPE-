{
 "cells": [
  {
   "cell_type": "code",
   "execution_count": null,
   "metadata": {},
   "outputs": [],
   "source": [
    "import pandas as pd\n",
    "from scipy.stats import skew\n",
    "from feature_engine import transformation as vt\n"
   ]
  },
  {
   "cell_type": "code",
   "execution_count": null,
   "metadata": {},
   "outputs": [],
   "source": [
    "dataset = pd.read_csv(\"resampled_dataset.csv\")\n",
    "columns_to_drop = ['Final_predictions']\n",
    "X = dataset.drop(columns=columns_to_drop)\n",
    "y = dataset[\"Final_predictions\"]"
   ]
  },
  {
   "cell_type": "code",
   "execution_count": null,
   "metadata": {},
   "outputs": [],
   "source": [
    "skewValue = dataset.skew(axis=0)\n",
    "skew_df = pd.DataFrame({'Column': skewValue.index, 'Skew': skewValue.values})\n",
    "print(\"Skew:\")\n",
    "print(skew_df)\n",
    "skew_df.to_csv ('skewed_values.csv', index = False, header=True)"
   ]
  },
  {
   "cell_type": "code",
   "execution_count": null,
   "metadata": {},
   "outputs": [],
   "source": [
    "import matplotlib.pyplot as plt\n",
    "\n",
    "# Assuming 'skew_df' contains your DataFrame with column names and their respective skewness values\n",
    "plt.figure(figsize=(10, 6))\n",
    "plt.bar(skew_df['Column'], skew_df['Skew'], color='skyblue')\n",
    "plt.xlabel('Column')\n",
    "plt.ylabel('Skewness')\n",
    "plt.title('Skewness of Columns')\n",
    "plt.xticks(rotation=45, ha='right')\n",
    "plt.grid(axis='y', linestyle='--', alpha=0.7)\n",
    "plt.show()\n"
   ]
  },
  {
   "cell_type": "code",
   "execution_count": null,
   "metadata": {},
   "outputs": [],
   "source": [
    "print(list(dataset.columns))"
   ]
  },
  {
   "cell_type": "code",
   "execution_count": null,
   "metadata": {},
   "outputs": [],
   "source": [
    "# set up the variable transformer\n",
    "tf = vt.YeoJohnsonTransformer(variables = ['Organism_Encoded', 'Molecular Weight', 'Isoelectric Point', 'Extinction Coefficient_reduced', 'Extinction Coefficient_oxidized', 'GRAVY', 'A', 'C', 'D', 'E', 'F', 'G', 'H', 'I', 'K', 'L', 'M', 'N', 'P', 'Q', 'R', 'S', 'T', 'V', 'W', 'Y', 'Helix Fraction', 'Turn Fraction', 'Sheet Fraction', 'Instability Index', 'Aromaticity', 'Charge', 'antigenicity_1', 'b_cells_probability_score', 'mhci_probability_score', 'mhci_rank', 'mhcii_rank', 'mhcii_score', 'surface_probability', 'signal_peptide_SP', 'signal_peptide_LIPO', 'signal_peptide_TAT', 'signal_peptide_TATLIPO', 'signal_peptide_PILIN', 'signal_peptide_OTHER'])\n",
    "# fit the transformer\n",
    "tf.fit(dataset)\n",
    "# transform the data\n",
    "tdf=tf.transform(dataset)\n",
    "print (tdf)\n",
    "transformed = pd.DataFrame(tdf)\n",
    "transformed.to_csv(\"skewness_removed.csv\", index=False)"
   ]
  },
  {
   "cell_type": "code",
   "execution_count": null,
   "metadata": {},
   "outputs": [],
   "source": [
    "skewValue = transformed.skew(axis=0)\n",
    "skew_new = pd.DataFrame({'Column': skewValue.index, 'Skew': skewValue.values})\n",
    "print(\"Skew:\")\n",
    "print(skew_new)\n",
    "#skew_df.to_csv ('skewed_values.csv', index = False, header=True)\n",
    "# Assuming 'skew_df' contains your DataFrame with column names and their respective skewness values\n",
    "plt.figure(figsize=(10, 6))\n",
    "plt.bar(skew_new['Column'], skew_new['Skew'], color='skyblue')\n",
    "plt.xlabel('Column')\n",
    "plt.ylabel('Skewness')\n",
    "plt.title('Skewness of Columns')\n",
    "plt.xticks(rotation=45, ha='right')\n",
    "plt.grid(axis='y', linestyle='--', alpha=0.7)\n",
    "plt.show()\n"
   ]
  }
 ],
 "metadata": {
  "kernelspec": {
   "display_name": "Python 3",
   "language": "python",
   "name": "python3"
  },
  "language_info": {
   "codemirror_mode": {
    "name": "ipython",
    "version": 3
   },
   "file_extension": ".py",
   "mimetype": "text/x-python",
   "name": "python",
   "nbconvert_exporter": "python",
   "pygments_lexer": "ipython3",
   "version": "3.10.8"
  }
 },
 "nbformat": 4,
 "nbformat_minor": 2
}
